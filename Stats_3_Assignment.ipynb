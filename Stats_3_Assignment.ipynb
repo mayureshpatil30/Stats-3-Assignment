{
  "nbformat": 4,
  "nbformat_minor": 0,
  "metadata": {
    "colab": {
      "provenance": []
    },
    "kernelspec": {
      "name": "python3",
      "display_name": "Python 3"
    },
    "language_info": {
      "name": "python"
    }
  },
  "cells": [
    {
      "cell_type": "code",
      "execution_count": 1,
      "metadata": {
        "id": "wwlitiyhd2iY"
      },
      "outputs": [],
      "source": [
        "import numpy as np\n",
        "import scipy.stats as stats\n",
        "\n"
      ]
    },
    {
      "cell_type": "code",
      "source": [
        "# Problem Statement 1\n",
        "population_mean = 100\n",
        "population_std = 15\n",
        "sample_mean = 108\n",
        "sample_size = 36\n",
        "\n",
        "# Calculate the Z-test statistic\n",
        "z = (sample_mean - population_mean) / (population_std / np.sqrt(sample_size))\n",
        "\n",
        "# Determine the critical value for a one-tailed test at alpha = 0.05\n",
        "alpha = 0.05\n",
        "critical_value = stats.norm.ppf(1 - alpha)\n",
        "\n",
        "# Output the results\n",
        "print(f\"Z-test statistic: {z:.2f}\")\n",
        "print(f\"Critical value (alpha={alpha}): {critical_value:.2f}\")\n",
        "\n",
        "# Decision based on the comparison\n",
        "if z > critical_value:\n",
        "    print(\"Reject the null hypothesis: There is evidence that the raw cornstarch diet had a positive effect on blood glucose levels.\")\n",
        "else:\n",
        "    print(\"Fail to reject the null hypothesis: There is no evidence that the raw cornstarch diet had an effect on blood glucose levels.\")\n"
      ],
      "metadata": {
        "colab": {
          "base_uri": "https://localhost:8080/"
        },
        "id": "t-lw-hlUd4J7",
        "outputId": "c2927912-caf4-4dbf-af0d-b4f941b0678a"
      },
      "execution_count": 2,
      "outputs": [
        {
          "output_type": "stream",
          "name": "stdout",
          "text": [
            "Z-test statistic: 3.20\n",
            "Critical value (alpha=0.05): 1.64\n",
            "Reject the null hypothesis: There is evidence that the raw cornstarch diet had a positive effect on blood glucose levels.\n"
          ]
        }
      ]
    },
    {
      "cell_type": "code",
      "source": [
        "# Problem Statement 2\n",
        "\n",
        "# Given proportions and sample sizes\n",
        "p1 = 0.52  # Proportion of Republicans in state 1\n",
        "p2 = 0.47  # Proportion of Republicans in state 2\n",
        "n1 = 100   # Sample size in state 1\n",
        "n2 = 100   # Sample size in state 2\n",
        "\n",
        "# Calculate the standard errors\n",
        "SE1 = np.sqrt(p1 * (1 - p1) / n1)\n",
        "SE2 = np.sqrt(p2 * (1 - p2) / n2)\n",
        "\n",
        "# Mean and SE of the difference in proportions\n",
        "mu_diff = p2 - p1\n",
        "SE_diff = np.sqrt(SE1**2 + SE2**2)\n",
        "\n",
        "# Calculate the z-score for the difference of 0\n",
        "z = (0 - mu_diff) / SE_diff\n",
        "\n",
        "# Find the probability that the difference is greater than 0\n",
        "probability = 1 - stats.norm.cdf(z)  # Since we want P(D > 0)\n",
        "\n",
        "print(f\"Probability that the survey will show a greater percentage of Republican voters in the second state than in the first state: {probability:.4f}\")\n"
      ],
      "metadata": {
        "colab": {
          "base_uri": "https://localhost:8080/"
        },
        "id": "MfqcPJ-td-ne",
        "outputId": "adddd1d8-b450-4e14-c166-f372017803f8"
      },
      "execution_count": 3,
      "outputs": [
        {
          "output_type": "stream",
          "name": "stdout",
          "text": [
            "Probability that the survey will show a greater percentage of Republican voters in the second state than in the first state: 0.2395\n"
          ]
        }
      ]
    },
    {
      "cell_type": "code",
      "source": [
        "# Problem Statement 3\n",
        "\n",
        "# Given data\n",
        "mean = 1026\n",
        "std_dev = 209\n",
        "your_score = 1100\n",
        "\n",
        "# Calculate the z-score\n",
        "z = (your_score - mean) / std_dev\n",
        "\n",
        "# Calculate the percentile\n",
        "percentile = stats.norm.cdf(z) * 100\n",
        "\n",
        "print(f\"Your z-score is: {z:.3f}\")\n",
        "print(f\"You scored better than approximately {percentile:.2f}% of test takers.\")\n"
      ],
      "metadata": {
        "colab": {
          "base_uri": "https://localhost:8080/"
        },
        "id": "IP7nHNEFeNXy",
        "outputId": "0c59f67c-517c-407e-a468-3aef72c9d21c"
      },
      "execution_count": 4,
      "outputs": [
        {
          "output_type": "stream",
          "name": "stdout",
          "text": [
            "Your z-score is: 0.354\n",
            "You scored better than approximately 63.84% of test takers.\n"
          ]
        }
      ]
    }
  ]
}